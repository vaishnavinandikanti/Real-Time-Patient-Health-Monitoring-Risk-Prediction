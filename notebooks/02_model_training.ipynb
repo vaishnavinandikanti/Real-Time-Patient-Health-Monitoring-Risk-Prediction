{
 "cells": [
  {
   "cell_type": "code",
   "execution_count": 11,
   "id": "a77c2069",
   "metadata": {},
   "outputs": [
    {
     "name": "stdout",
     "output_type": "stream",
     "text": [
      "ROC AUC: 1.0\n",
      "\n",
      "Classification Report:\n",
      "               precision    recall  f1-score   support\n",
      "\n",
      "           0       1.00      1.00      1.00        25\n",
      "           1       1.00      1.00      1.00       175\n",
      "\n",
      "    accuracy                           1.00       200\n",
      "   macro avg       1.00      1.00      1.00       200\n",
      "weighted avg       1.00      1.00      1.00       200\n",
      "\n",
      "\n",
      "Confusion Matrix:\n",
      " [[ 25   0]\n",
      " [  0 175]]\n",
      "✅ Model saved to ../models/risk_model.joblib\n"
     ]
    }
   ],
   "source": [
    "import pandas as pd\n",
    "import numpy as np\n",
    "import joblib\n",
    "from sklearn.ensemble import GradientBoostingClassifier\n",
    "from sklearn.model_selection import train_test_split\n",
    "from sklearn.metrics import roc_auc_score, classification_report, confusion_matrix\n",
    "\n",
    "# 1) Generate synthetic dataset (matching simulator features)\n",
    "np.random.seed(42)\n",
    "n_samples = 1000\n",
    "data = pd.DataFrame({\n",
    "    \"hr\": np.random.randint(55, 120, size=n_samples),\n",
    "    \"bp_sys\": np.random.randint(95, 180, size=n_samples),\n",
    "    \"spo2\": np.random.randint(80, 100, size=n_samples)\n",
    "})\n",
    "\n",
    "# Create a simple risk label\n",
    "data[\"high_risk\"] = (\n",
    "    (data[\"hr\"] < 60) | (data[\"hr\"] > 100) |\n",
    "    (data[\"bp_sys\"] > 140) |\n",
    "    (data[\"spo2\"] < 92)\n",
    ").astype(int)\n",
    "\n",
    "# 2) Split features & target\n",
    "X = data[[\"hr\", \"bp_sys\", \"spo2\"]]\n",
    "y = data[\"high_risk\"]\n",
    "X_train, X_test, y_train, y_test = train_test_split(X, y, test_size=0.2, random_state=42, stratify=y)\n",
    "\n",
    "# 3) Train model\n",
    "model = GradientBoostingClassifier(\n",
    "    n_estimators=200,\n",
    "    learning_rate=0.05,\n",
    "    max_depth=3,\n",
    "    random_state=42\n",
    ")\n",
    "model.fit(X_train, y_train)\n",
    "\n",
    "# 4) Evaluate\n",
    "y_pred_prob = model.predict_proba(X_test)[:, 1]\n",
    "roc_auc = roc_auc_score(y_test, y_pred_prob)\n",
    "print(\"ROC AUC:\", roc_auc)\n",
    "y_pred = (y_pred_prob > 0.7).astype(int)  # Convert probabilities to 0/1\n",
    "print(\"\\nClassification Report:\\n\", classification_report(y_test, y_pred))\n",
    "print(\"\\nConfusion Matrix:\\n\", confusion_matrix(y_test, y_pred))\n",
    "\n",
    "\n",
    "# 5) Save model in the correct folder\n",
    "joblib.dump(model, \"../models/risk_model.joblib\")\n",
    "print(\"✅ Model saved to ../models/risk_model.joblib\")\n"
   ]
  }
 ],
 "metadata": {
  "kernelspec": {
   "display_name": ".venv (3.13.2)",
   "language": "python",
   "name": "python3"
  },
  "language_info": {
   "codemirror_mode": {
    "name": "ipython",
    "version": 3
   },
   "file_extension": ".py",
   "mimetype": "text/x-python",
   "name": "python",
   "nbconvert_exporter": "python",
   "pygments_lexer": "ipython3",
   "version": "3.13.2"
  }
 },
 "nbformat": 4,
 "nbformat_minor": 5
}
