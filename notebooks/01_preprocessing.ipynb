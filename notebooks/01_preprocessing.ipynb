{
 "cells": [
  {
   "cell_type": "code",
   "execution_count": 5,
   "id": "a9408f7a",
   "metadata": {},
   "outputs": [
    {
     "name": "stdout",
     "output_type": "stream",
     "text": [
      "Dataset shape: (299, 13)\n",
      "✅ Preprocessing complete. Files saved in data/processed/\n"
     ]
    }
   ],
   "source": [
    "# Step 2: Data Acquisition & Preprocessing\n",
    "\n",
    "import pandas as pd\n",
    "import numpy as np\n",
    "from sklearn.model_selection import train_test_split\n",
    "from sklearn.impute import SimpleImputer\n",
    "from sklearn.preprocessing import StandardScaler\n",
    "\n",
    "# 1) Load dataset\n",
    "df = pd.read_csv(\"../data/raw/patients_raw.csv\")\n",
    "print(\"Dataset shape:\", df.shape)\n",
    "df.head()\n",
    "\n",
    "# 2) Rename target column for clarity\n",
    "# In the Kaggle dataset, DEATH_EVENT is 1 if patient died\n",
    "# We'll treat 1 as HIGH RISK\n",
    "df.rename(columns={\"DEATH_EVENT\": \"high_risk\"}, inplace=True)\n",
    "\n",
    "# 3) Handle missing values (if any)\n",
    "imputer = SimpleImputer(strategy=\"median\")\n",
    "df[df.columns] = imputer.fit_transform(df)\n",
    "\n",
    "# 4) Separate features and target\n",
    "X = df.drop(columns=[\"high_risk\"])\n",
    "y = df[\"high_risk\"]\n",
    "\n",
    "# 5) Train-test split\n",
    "X_train, X_test, y_train, y_test = train_test_split(\n",
    "    X, y, test_size=0.2, random_state=42, stratify=y\n",
    ")\n",
    "\n",
    "# 6) Scale numeric features\n",
    "scaler = StandardScaler()\n",
    "X_train_scaled = scaler.fit_transform(X_train)\n",
    "X_test_scaled = scaler.transform(X_test)\n",
    "\n",
    "# 7) Save processed data\n",
    "pd.DataFrame(X_train_scaled, columns=X.columns).to_csv(\"../data/processed/X_train.csv\", index=False)\n",
    "pd.DataFrame(X_test_scaled, columns=X.columns).to_csv(\"../data/processed/X_test.csv\", index=False)\n",
    "y_train.to_csv(\"../data/processed/y_train.csv\", index=False)\n",
    "y_test.to_csv(\"../data/processed/y_test.csv\", index=False)\n",
    "\n",
    "print(\"✅ Preprocessing complete. Files saved in data/processed/\")\n"
   ]
  }
 ],
 "metadata": {
  "kernelspec": {
   "display_name": ".venv (3.13.2)",
   "language": "python",
   "name": "python3"
  },
  "language_info": {
   "codemirror_mode": {
    "name": "ipython",
    "version": 3
   },
   "file_extension": ".py",
   "mimetype": "text/x-python",
   "name": "python",
   "nbconvert_exporter": "python",
   "pygments_lexer": "ipython3",
   "version": "3.13.2"
  }
 },
 "nbformat": 4,
 "nbformat_minor": 5
}
